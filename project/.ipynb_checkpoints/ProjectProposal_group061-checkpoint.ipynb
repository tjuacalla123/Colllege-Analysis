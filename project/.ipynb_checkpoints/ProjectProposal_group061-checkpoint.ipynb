{
 "cells": [
  {
   "cell_type": "markdown",
   "metadata": {},
   "source": [
    "# COGS 108 - Final Project Proposal"
   ]
  },
  {
   "cell_type": "markdown",
   "metadata": {},
   "source": [
    "## Group 061\n",
    "\n",
    "### Timothy Juacalla, Clarissa Elbo, Marco Morocho, Hsiang-Ning Chen"
   ]
  },
  {
   "cell_type": "markdown",
   "metadata": {},
   "source": [
    "# Research Question"
   ]
  },
  {
   "cell_type": "markdown",
   "metadata": {},
   "source": [
    "**Which features or attributes primarily affect the admission rate into a 4 year college or university? More specifically, is there a relationship between students’ SAT scores and the admissions rate into a college?**"
   ]
  },
  {
   "cell_type": "markdown",
   "metadata": {},
   "source": [
    "## Background and Prior Work"
   ]
  },
  {
   "cell_type": "markdown",
   "metadata": {},
   "source": [
    "Although each college has their admission process and policy, most four year colleges require their applicant to submit their SAT or ACT test scores. Many college admissions offices use test scores such as the SAT and ACT in order to determine whether a student will be admitted. In most cases, students with higher SAT scores are believed to have better chances of being admitted to the top-ranking colleges. However, how much weight does the SAT score actually carry in a college application? Our background research shows that although there are other factors that influence college admissions and it is difficult to generalize exactly how much weight does the SAT score carry, there is no doubt that SAT score plays an important role in college admissions, especially among the more selective colleges.\n",
    "\n",
    "References:\n",
    "- 1) *SAT-Only Admission: How Would It Change College Campuses? https://files.eric.ed.gov/fulltext/ED600056.pdf*\n",
    "- 2) *The Importance of the ACT & SAT at Test-Optional Colleges https://www.ontocollege.com/test-optional-colleges-2020/*"
   ]
  },
  {
   "cell_type": "markdown",
   "metadata": {},
   "source": [
    "# Hypothesis\n"
   ]
  },
  {
   "cell_type": "markdown",
   "metadata": {},
   "source": [
    "**Smaller, more expensive schools will have lower, more selective admission rates than their larger and cheaper counterparts. Furthermore, the higher SAT scores a school has, the lower their admission rate will be.**"
   ]
  },
  {
   "cell_type": "markdown",
   "metadata": {},
   "source": [
    "# Data"
   ]
  },
  {
   "cell_type": "markdown",
   "metadata": {},
   "source": [
    "An ideal dataset would include different universities and the SAT scores for the accepted applicants. Columns would store the names of universities and the test scores of the applicants. In order to get the most accurate results, it would be best to have information on multiple colleges. A dataset that is granular and has abundant information about the logistics of the schools (tuition fees, total amount of students, location, etc) would also be helpful. Additionally, there would have to be a variety of data on schools that are considered to be more prestigious in order to see the difference in scores."
   ]
  },
  {
   "cell_type": "markdown",
   "metadata": {},
   "source": [
    "# Ethics & Privacy"
   ]
  },
  {
   "cell_type": "markdown",
   "metadata": {},
   "source": [
    "We will conduct our project in a way that does not intentionally cause harm to others and will try our best to consider any biases and discrimination in the data. Any data that is collected should be public and free to use. We will also ensure that our data takes the privacy of others into consideration and that we do not leak information that can pinpoint specific individuals."
   ]
  },
  {
   "cell_type": "markdown",
   "metadata": {},
   "source": [
    "# Team Expectations "
   ]
  },
  {
   "cell_type": "markdown",
   "metadata": {},
   "source": [
    "- Be respectful of one another\n",
    "- Be honest and transparent about work progress or any individual issues that may arise\n",
    "- Critique not criticize\n",
    "\n"
   ]
  },
  {
   "cell_type": "markdown",
   "metadata": {},
   "source": [
    "# Project Timeline Proposal"
   ]
  },
  {
   "cell_type": "markdown",
   "metadata": {},
   "source": [
    "| Meeting Date  | Meeting Time| Completed Before Meeting  | Discuss at Meeting |\n",
    "|---|---|---|---|\n",
    "| 4/21  |  3 PM | Edit, finalize, and submit proposal; Search for datasets  | Discuss research question and submit project proposal | \n",
    "| 4/28  |  10 AM | Do background research on College Admissions and how they are determined | Start looking for datasets that are ideal to answering our hypothesis | \n",
    "| 5/5  | 3pm  | Discuss Wrangling and the datasets we want to work with | Edit, finalize checkpoint #1 |\n",
    "| 5/19  | 3 PM  | Edit, finalize checkpoint #2 | Review/Edit wrangling/EDA; Discuss Analysis Plan |\n",
    "| 5/26  | 12 PM  | Finalize wrangling/EDA; Begin Analysis | Discuss/edit Analysis; Complete project check-in |\n",
    "| 6/5  | 12 PM | Complete analysis; Draft results/conclusion/discussion | Discuss/edit full project |\n"
   ]
  }
 ],
 "metadata": {
  "kernelspec": {
   "display_name": "Python 3",
   "language": "python",
   "name": "python3"
  },
  "language_info": {
   "codemirror_mode": {
    "name": "ipython",
    "version": 3
   },
   "file_extension": ".py",
   "mimetype": "text/x-python",
   "name": "python",
   "nbconvert_exporter": "python",
   "pygments_lexer": "ipython3",
   "version": "3.8.5"
  }
 },
 "nbformat": 4,
 "nbformat_minor": 2
}
